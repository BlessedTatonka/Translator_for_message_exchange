{
 "cells": [
  {
   "cell_type": "code",
   "execution_count": 7,
   "metadata": {},
   "outputs": [],
   "source": [
    "# !pip install fastapi\n",
    "# !pip install uvicorn"
   ]
  },
  {
   "cell_type": "code",
   "execution_count": 1,
   "metadata": {
    "scrolled": true
   },
   "outputs": [
    {
     "name": "stdout",
     "output_type": "stream",
     "text": [
      "/home/boris/anaconda3/lib/python3.7/site-packages/sklearn/linear_model/least_angle.py:35: DeprecationWarning: `np.float` is a deprecated alias for the builtin `float`. To silence this warning, use `float` by itself. Doing this will not modify any behavior and is safe. If you specifically wanted the numpy scalar type, use `np.float64` here.\n",
      "Deprecated in NumPy 1.20; for more details and guidance: https://numpy.org/devdocs/release/1.20.0-notes.html#deprecations\n",
      "  eps=np.finfo(np.float).eps,\n",
      "/home/boris/anaconda3/lib/python3.7/site-packages/sklearn/linear_model/least_angle.py:597: DeprecationWarning: `np.float` is a deprecated alias for the builtin `float`. To silence this warning, use `float` by itself. Doing this will not modify any behavior and is safe. If you specifically wanted the numpy scalar type, use `np.float64` here.\n",
      "Deprecated in NumPy 1.20; for more details and guidance: https://numpy.org/devdocs/release/1.20.0-notes.html#deprecations\n",
      "  eps=np.finfo(np.float).eps, copy_X=True, fit_path=True,\n",
      "/home/boris/anaconda3/lib/python3.7/site-packages/sklearn/linear_model/least_angle.py:836: DeprecationWarning: `np.float` is a deprecated alias for the builtin `float`. To silence this warning, use `float` by itself. Doing this will not modify any behavior and is safe. If you specifically wanted the numpy scalar type, use `np.float64` here.\n",
      "Deprecated in NumPy 1.20; for more details and guidance: https://numpy.org/devdocs/release/1.20.0-notes.html#deprecations\n",
      "  eps=np.finfo(np.float).eps, copy_X=True, fit_path=True,\n",
      "/home/boris/anaconda3/lib/python3.7/site-packages/sklearn/linear_model/least_angle.py:862: DeprecationWarning: `np.float` is a deprecated alias for the builtin `float`. To silence this warning, use `float` by itself. Doing this will not modify any behavior and is safe. If you specifically wanted the numpy scalar type, use `np.float64` here.\n",
      "Deprecated in NumPy 1.20; for more details and guidance: https://numpy.org/devdocs/release/1.20.0-notes.html#deprecations\n",
      "  eps=np.finfo(np.float).eps, positive=False):\n",
      "/home/boris/anaconda3/lib/python3.7/site-packages/sklearn/linear_model/least_angle.py:1097: DeprecationWarning: `np.float` is a deprecated alias for the builtin `float`. To silence this warning, use `float` by itself. Doing this will not modify any behavior and is safe. If you specifically wanted the numpy scalar type, use `np.float64` here.\n",
      "Deprecated in NumPy 1.20; for more details and guidance: https://numpy.org/devdocs/release/1.20.0-notes.html#deprecations\n",
      "  max_n_alphas=1000, n_jobs=None, eps=np.finfo(np.float).eps,\n",
      "/home/boris/anaconda3/lib/python3.7/site-packages/sklearn/linear_model/least_angle.py:1344: DeprecationWarning: `np.float` is a deprecated alias for the builtin `float`. To silence this warning, use `float` by itself. Doing this will not modify any behavior and is safe. If you specifically wanted the numpy scalar type, use `np.float64` here.\n",
      "Deprecated in NumPy 1.20; for more details and guidance: https://numpy.org/devdocs/release/1.20.0-notes.html#deprecations\n",
      "  max_n_alphas=1000, n_jobs=None, eps=np.finfo(np.float).eps,\n",
      "/home/boris/anaconda3/lib/python3.7/site-packages/sklearn/linear_model/least_angle.py:1480: DeprecationWarning: `np.float` is a deprecated alias for the builtin `float`. To silence this warning, use `float` by itself. Doing this will not modify any behavior and is safe. If you specifically wanted the numpy scalar type, use `np.float64` here.\n",
      "Deprecated in NumPy 1.20; for more details and guidance: https://numpy.org/devdocs/release/1.20.0-notes.html#deprecations\n",
      "  eps=np.finfo(np.float).eps, copy_X=True, positive=False):\n",
      "/home/boris/anaconda3/lib/python3.7/site-packages/sklearn/linear_model/randomized_l1.py:152: DeprecationWarning: `np.float` is a deprecated alias for the builtin `float`. To silence this warning, use `float` by itself. Doing this will not modify any behavior and is safe. If you specifically wanted the numpy scalar type, use `np.float64` here.\n",
      "Deprecated in NumPy 1.20; for more details and guidance: https://numpy.org/devdocs/release/1.20.0-notes.html#deprecations\n",
      "  precompute=False, eps=np.finfo(np.float).eps,\n",
      "/home/boris/anaconda3/lib/python3.7/site-packages/sklearn/linear_model/randomized_l1.py:320: DeprecationWarning: `np.float` is a deprecated alias for the builtin `float`. To silence this warning, use `float` by itself. Doing this will not modify any behavior and is safe. If you specifically wanted the numpy scalar type, use `np.float64` here.\n",
      "Deprecated in NumPy 1.20; for more details and guidance: https://numpy.org/devdocs/release/1.20.0-notes.html#deprecations\n",
      "  eps=np.finfo(np.float).eps, random_state=None,\n",
      "/home/boris/anaconda3/lib/python3.7/site-packages/sklearn/linear_model/randomized_l1.py:580: DeprecationWarning: `np.float` is a deprecated alias for the builtin `float`. To silence this warning, use `float` by itself. Doing this will not modify any behavior and is safe. If you specifically wanted the numpy scalar type, use `np.float64` here.\n",
      "Deprecated in NumPy 1.20; for more details and guidance: https://numpy.org/devdocs/release/1.20.0-notes.html#deprecations\n",
      "  eps=4 * np.finfo(np.float).eps, n_jobs=None,\n",
      "/home/boris/anaconda3/lib/python3.7/site-packages/sklearn/decomposition/online_lda.py:31: DeprecationWarning: `np.float` is a deprecated alias for the builtin `float`. To silence this warning, use `float` by itself. Doing this will not modify any behavior and is safe. If you specifically wanted the numpy scalar type, use `np.float64` here.\n",
      "Deprecated in NumPy 1.20; for more details and guidance: https://numpy.org/devdocs/release/1.20.0-notes.html#deprecations\n",
      "  EPS = np.finfo(np.float).eps\n",
      "/home/boris/anaconda3/lib/python3.7/site-packages/sklearn/feature_extraction/image.py:167: DeprecationWarning: `np.int` is a deprecated alias for the builtin `int`. To silence this warning, use `int` by itself. Doing this will not modify any behavior and is safe. When replacing `np.int`, you may wish to use e.g. `np.int64` or `np.int32` to specify the precision. If you wish to review your current use, check the release note link for additional information.\n",
      "Deprecated in NumPy 1.20; for more details and guidance: https://numpy.org/devdocs/release/1.20.0-notes.html#deprecations\n",
      "  dtype=np.int):\n",
      "[NeMo W 2022-02-15 04:56:46 optimizers:55] Apex was not found. Using the lamb or fused_adam optimizer will error out.\n",
      "[NeMo W 2022-02-15 04:56:46 nemo_logging:349] /home/boris/anaconda3/lib/python3.7/site-packages/pydub/utils.py:170: RuntimeWarning: Couldn't find ffmpeg or avconv - defaulting to ffmpeg, but may not work\n",
      "      warn(\"Couldn't find ffmpeg or avconv - defaulting to ffmpeg, but may not work\", RuntimeWarning)\n",
      "    \n",
      "################################################################################\n",
      "### WARNING, path does not exist: KALDI_ROOT=/mnt/matylda5/iveselyk/Tools/kaldi-trunk\n",
      "###          (please add 'export KALDI_ROOT=<your_path>' in your $HOME/.profile)\n",
      "###          (or run as: KALDI_ROOT=<your_path> python <your_script>.py)\n",
      "################################################################################\n",
      "\n",
      "[NeMo W 2022-02-15 04:56:46 nemo_logging:349] /home/boris/anaconda3/lib/python3.7/site-packages/torchaudio/backend/utils.py:54: UserWarning: \"sox\" backend is being deprecated. The default backend will be changed to \"sox_io\" backend in 0.8.0 and \"sox\" backend will be removed in 0.9.0. Please migrate to \"sox_io\" backend. Please refer to https://github.com/pytorch/audio/issues/903 for the detail.\n",
      "      '\"sox\" backend is being deprecated. '\n",
      "    \n",
      "[NeMo W 2022-02-15 04:56:46 nmesc_clustering:54] Using eigen decomposition from scipy, upgrade torch to 1.9 or higher for faster clustering\n",
      "Traceback (most recent call last):\n",
      "  File \"/home/boris/anaconda3/bin/uvicorn\", line 8, in <module>\n",
      "    sys.exit(main())\n",
      "  File \"/home/boris/anaconda3/lib/python3.7/site-packages/click/core.py\", line 829, in __call__\n",
      "    return self.main(*args, **kwargs)\n",
      "  File \"/home/boris/anaconda3/lib/python3.7/site-packages/click/core.py\", line 782, in main\n",
      "    rv = self.invoke(ctx)\n",
      "  File \"/home/boris/anaconda3/lib/python3.7/site-packages/click/core.py\", line 1066, in invoke\n",
      "    return ctx.invoke(self.callback, **ctx.params)\n",
      "  File \"/home/boris/anaconda3/lib/python3.7/site-packages/click/core.py\", line 610, in invoke\n",
      "    return callback(*args, **kwargs)\n",
      "  File \"/home/boris/anaconda3/lib/python3.7/site-packages/uvicorn/main.py\", line 339, in main\n",
      "    run(**kwargs)\n",
      "  File \"/home/boris/anaconda3/lib/python3.7/site-packages/uvicorn/main.py\", line 362, in run\n",
      "    server.run()\n",
      "  File \"/home/boris/anaconda3/lib/python3.7/site-packages/uvicorn/main.py\", line 390, in run\n",
      "    loop.run_until_complete(self.serve(sockets=sockets))\n",
      "  File \"uvloop/loop.pyx\", line 1456, in uvloop.loop.Loop.run_until_complete\n",
      "  File \"/home/boris/anaconda3/lib/python3.7/site-packages/uvicorn/main.py\", line 397, in serve\n",
      "    config.load()\n",
      "  File \"/home/boris/anaconda3/lib/python3.7/site-packages/uvicorn/config.py\", line 278, in load\n",
      "    self.loaded_app = import_from_string(self.app)\n",
      "  File \"/home/boris/anaconda3/lib/python3.7/site-packages/uvicorn/importer.py\", line 23, in import_from_string\n",
      "    raise exc from None\n",
      "  File \"/home/boris/anaconda3/lib/python3.7/site-packages/uvicorn/importer.py\", line 20, in import_from_string\n",
      "    module = importlib.import_module(module_str)\n",
      "  File \"/home/boris/anaconda3/lib/python3.7/importlib/__init__.py\", line 127, in import_module\n",
      "    return _bootstrap._gcd_import(name[level:], package, level)\n",
      "  File \"<frozen importlib._bootstrap>\", line 1006, in _gcd_import\n",
      "  File \"<frozen importlib._bootstrap>\", line 983, in _find_and_load\n",
      "  File \"<frozen importlib._bootstrap>\", line 967, in _find_and_load_unlocked\n",
      "  File \"<frozen importlib._bootstrap>\", line 677, in _load_unlocked\n",
      "  File \"<frozen importlib._bootstrap_external>\", line 728, in exec_module\n",
      "  File \"<frozen importlib._bootstrap>\", line 219, in _call_with_frames_removed\n",
      "  File \"./main.py\", line 4, in <module>\n",
      "    import nemo_util\n",
      "  File \"./nemo_util.py\", line 3, in <module>\n",
      "    from nemo.collections.nlp.models.machine_translation import MTEncDecModel\n",
      "  File \"/home/boris/anaconda3/lib/python3.7/site-packages/nemo/collections/nlp/__init__.py\", line 15, in <module>\n",
      "    from nemo.collections.nlp import data, losses, models, modules\n",
      "  File \"/home/boris/anaconda3/lib/python3.7/site-packages/nemo/collections/nlp/models/__init__.py\", line 15, in <module>\n",
      "    from nemo.collections.nlp.models.dialogue_state_tracking_sgdqa.sgdqa_model import SGDQAModel\n",
      "  File \"/home/boris/anaconda3/lib/python3.7/site-packages/nemo/collections/nlp/models/dialogue_state_tracking_sgdqa/__init__.py\", line 15, in <module>\n",
      "    from nemo.collections.nlp.models.dialogue_state_tracking_generative.dialogue_gpt_model import DialogueGPTModel\n",
      "  File \"/home/boris/anaconda3/lib/python3.7/site-packages/nemo/collections/nlp/models/dialogue_state_tracking_generative/__init__.py\", line 15, in <module>\n",
      "    from nemo.collections.nlp.models.dialogue_state_tracking_generative.dialogue_gpt_model import DialogueGPTModel\n",
      "  File \"/home/boris/anaconda3/lib/python3.7/site-packages/nemo/collections/nlp/models/dialogue_state_tracking_generative/dialogue_gpt_model.py\", line 40, in <module>\n",
      "    from nemo.collections.nlp.models.nlp_model import NLPModel\n",
      "  File \"/home/boris/anaconda3/lib/python3.7/site-packages/nemo/collections/nlp/models/nlp_model.py\", line 29, in <module>\n",
      "    from nemo.collections.nlp.modules import BertModule\n",
      "  File \"/home/boris/anaconda3/lib/python3.7/site-packages/nemo/collections/nlp/modules/__init__.py\", line 16, in <module>\n",
      "    from nemo.collections.nlp.modules.common import (\n",
      "  File \"/home/boris/anaconda3/lib/python3.7/site-packages/nemo/collections/nlp/modules/common/__init__.py\", line 29, in <module>\n",
      "    from nemo.collections.nlp.modules.common.tokenizer_utils import get_tokenizer, get_tokenizer_list\n",
      "  File \"/home/boris/anaconda3/lib/python3.7/site-packages/nemo/collections/nlp/modules/common/tokenizer_utils.py\", line 27, in <module>\n",
      "    from nemo.collections.nlp.parts.nlp_overrides import HAVE_APEX\n",
      "  File \"/home/boris/anaconda3/lib/python3.7/site-packages/nemo/collections/nlp/parts/nlp_overrides.py\", line 30, in <module>\n",
      "    from torch.distributed.algorithms.ddp_comm_hooks.debugging_hooks import noop_hook\n",
      "ModuleNotFoundError: No module named 'torch.distributed.algorithms'\n"
     ]
    }
   ],
   "source": [
    "!uvicorn main:app --host 0.0.0.0 --port 25565"
   ]
  },
  {
   "cell_type": "code",
   "execution_count": null,
   "metadata": {
    "scrolled": true
   },
   "outputs": [
    {
     "name": "stdout",
     "output_type": "stream",
     "text": [
      "[NeMo I 2022-02-17 18:20:04 cloud:56] Found existing object /home/boris/.cache/torch/NeMo/NeMo_1.6.2/tts_en_fastpitch_align/b50e16c5d695b00855ae53d6ba4e4f7f/tts_en_fastpitch_align.nemo.\n",
      "[NeMo I 2022-02-17 18:20:04 cloud:62] Re-using file from: /home/boris/.cache/torch/NeMo/NeMo_1.6.2/tts_en_fastpitch_align/b50e16c5d695b00855ae53d6ba4e4f7f/tts_en_fastpitch_align.nemo\n",
      "[NeMo I 2022-02-17 18:20:04 common:728] Instantiating model from pre-trained checkpoint\n"
     ]
    },
    {
     "name": "stderr",
     "output_type": "stream",
     "text": [
      "[NeMo E 2022-02-17 18:20:05 vocabs:323] Torch distributed needs to be initialized before you initialized <nemo.collections.common.data.vocabs.Phonemes object at 0x7fbd3ba80cd0>. This class is prone to data access race conditions. Now downloading corpora from global rank 0. If other ranks pass this before rank 0, errors might result.\n",
      "[NeMo W 2022-02-17 18:20:06 modelPT:135] If you intend to do training or fine-tuning, please call the ModelPT.setup_training_data() method and provide a valid configuration file to setup the train data loader.\n",
      "    Train config : \n",
      "    dataset:\n",
      "      _target_: nemo.collections.asr.data.audio_to_text.AudioToCharWithPriorAndPitchDataset\n",
      "      manifest_filepath: /raid/LJSpeech/nvidia_ljspeech_train.json\n",
      "      max_duration: null\n",
      "      min_duration: 0.1\n",
      "      int_values: false\n",
      "      normalize: true\n",
      "      sample_rate: 22050\n",
      "      trim: false\n",
      "      sup_data_path: /raid/LJSpeech/prior\n",
      "      n_window_stride: 256\n",
      "      n_window_size: 1024\n",
      "      pitch_fmin: 80\n",
      "      pitch_fmax: 640\n",
      "      pitch_avg: 211.27540199742586\n",
      "      pitch_std: 52.1851002822779\n",
      "      vocab:\n",
      "        notation: phonemes\n",
      "        punct: true\n",
      "        spaces: true\n",
      "        stresses: true\n",
      "        add_blank_at: None\n",
      "        pad_with_space: true\n",
      "        chars: true\n",
      "        improved_version_g2p: true\n",
      "    dataloader_params:\n",
      "      drop_last: false\n",
      "      shuffle: true\n",
      "      batch_size: 32\n",
      "      num_workers: 12\n",
      "    \n",
      "[NeMo W 2022-02-17 18:20:06 modelPT:142] If you intend to do validation, please call the ModelPT.setup_validation_data() or ModelPT.setup_multiple_validation_data() method and provide a valid configuration file to setup the validation data loader(s). \n",
      "    Validation config : \n",
      "    dataset:\n",
      "      _target_: nemo.collections.asr.data.audio_to_text.AudioToCharWithPriorAndPitchDataset\n",
      "      manifest_filepath: /raid/LJSpeech/nvidia_ljspeech_val.json\n",
      "      max_duration: null\n",
      "      min_duration: null\n",
      "      int_values: false\n",
      "      normalize: true\n",
      "      sample_rate: 22050\n",
      "      trim: false\n",
      "      sup_data_path: /raid/LJSpeech/prior\n",
      "      n_window_stride: 256\n",
      "      n_window_size: 1024\n",
      "      pitch_fmin: 80\n",
      "      pitch_fmax: 640\n",
      "      pitch_avg: 211.27540199742586\n",
      "      pitch_std: 52.1851002822779\n",
      "      vocab:\n",
      "        notation: phonemes\n",
      "        punct: true\n",
      "        spaces: true\n",
      "        stresses: true\n",
      "        add_blank_at: None\n",
      "        pad_with_space: true\n",
      "        chars: true\n",
      "        improved_version_g2p: true\n",
      "    dataloader_params:\n",
      "      drop_last: false\n",
      "      shuffle: false\n",
      "      batch_size: 32\n",
      "      num_workers: 8\n",
      "    \n"
     ]
    },
    {
     "name": "stdout",
     "output_type": "stream",
     "text": [
      "[NeMo I 2022-02-17 18:20:06 features:264] PADDING: 1\n",
      "[NeMo I 2022-02-17 18:20:06 features:281] STFT using torch\n",
      "[NeMo I 2022-02-17 18:20:06 save_restore_connector:154] Model FastPitchModel was successfully restored from /home/boris/.cache/torch/NeMo/NeMo_1.6.2/tts_en_fastpitch_align/b50e16c5d695b00855ae53d6ba4e4f7f/tts_en_fastpitch_align.nemo.\n",
      "[NeMo I 2022-02-17 18:20:06 cloud:66] Downloading from: https://api.ngc.nvidia.com/v2/models/nvidia/nemo/tts_hifigan/versions/1.0.0rc1/files/tts_hifigan.nemo to /home/boris/.cache/torch/NeMo/NeMo_1.6.2/tts_hifigan/e6da322f0f7e7dcf3f1900a9229a7e69/tts_hifigan.nemo\n",
      " 50% [.........................                         ] 158392320 / 315386678"
     ]
    }
   ],
   "source": [
    "from nemo.collections.tts.models import FastPitchModel\n",
    "from nemo.collections.tts.models import HifiGanModel\n",
    "\n",
    "spec_gen = FastPitchModel.from_pretrained('tts_en_fastpitch')\n",
    "vocoder = HifiGanModel.from_pretrained('tts_hifigan')\n",
    "\n",
    "parsed = spec_gen.parse('mew')\n",
    "# spectrogram = spec_gen.generate_spectrogram(tokens=parsed)\n",
    "# waveform = vocoder.convert_spectrogram_to_audio(spec=spectrogram)"
   ]
  },
  {
   "cell_type": "code",
   "execution_count": null,
   "metadata": {},
   "outputs": [],
   "source": []
  },
  {
   "cell_type": "code",
   "execution_count": 2,
   "metadata": {
    "scrolled": true
   },
   "outputs": [
    {
     "name": "stderr",
     "output_type": "stream",
     "text": [
      "[NeMo E 2022-02-17 18:17:02 vocabs:323] Torch distributed needs to be initialized before you initialized <nemo.collections.common.data.vocabs.Phonemes object at 0x7fbd6f031940>. This class is prone to data access race conditions. Now downloading corpora from global rank 0. If other ranks pass this before rank 0, errors might result.\n",
      "[NeMo W 2022-02-17 18:17:03 modelPT:135] If you intend to do training or fine-tuning, please call the ModelPT.setup_training_data() method and provide a valid configuration file to setup the train data loader.\n",
      "    Train config : \n",
      "    dataset:\n",
      "      _target_: nemo.collections.asr.data.audio_to_text.AudioToCharWithPriorAndPitchDataset\n",
      "      manifest_filepath: ../../datasets/RUSLAN/train_manifest.json\n",
      "      max_duration: null\n",
      "      min_duration: 0.1\n",
      "      int_values: false\n",
      "      normalize: true\n",
      "      sample_rate: 22050\n",
      "      trim: false\n",
      "      sup_data_path: ./priors_test\n",
      "      n_window_stride: 256\n",
      "      n_window_size: 1024\n",
      "      pitch_fmin: 52.06\n",
      "      pitch_fmax: 490.0\n",
      "      pitch_avg: 266.1947700760956\n",
      "      pitch_std: 102.32474957051491\n",
      "      vocab:\n",
      "        notation: phonemes\n",
      "        punct: true\n",
      "        spaces: true\n",
      "        stresses: true\n",
      "        add_blank_at: None\n",
      "        pad_with_space: true\n",
      "        chars: true\n",
      "        improved_version_g2p: true\n",
      "    dataloader_params:\n",
      "      drop_last: false\n",
      "      shuffle: false\n",
      "      batch_size: 1\n",
      "      num_workers: 12\n",
      "    manifest_filepath: ../../datasets/RUSLAN/train_manifest.json\n",
      "    batch_size: 4\n",
      "    num_workers: 4\n",
      "    \n",
      "[NeMo W 2022-02-17 18:17:03 modelPT:142] If you intend to do validation, please call the ModelPT.setup_validation_data() or ModelPT.setup_multiple_validation_data() method and provide a valid configuration file to setup the validation data loader(s). \n",
      "    Validation config : \n",
      "    dataset:\n",
      "      _target_: nemo.collections.asr.data.audio_to_text.AudioToCharWithPriorAndPitchDataset\n",
      "      manifest_filepath: ../../datasets/RUSLAN/test_manifest.json\n",
      "      max_duration: null\n",
      "      min_duration: null\n",
      "      int_values: false\n",
      "      normalize: true\n",
      "      sample_rate: 22050\n",
      "      trim: false\n",
      "      sup_data_path: ./priors_test\n",
      "      n_window_stride: 256\n",
      "      n_window_size: 1024\n",
      "      pitch_fmin: 52.06\n",
      "      pitch_fmax: 490.0\n",
      "      pitch_avg: 266.1947700760956\n",
      "      pitch_std: 102.32474957051491\n",
      "      vocab:\n",
      "        notation: phonemes\n",
      "        punct: true\n",
      "        spaces: true\n",
      "        stresses: true\n",
      "        add_blank_at: None\n",
      "        pad_with_space: true\n",
      "        chars: true\n",
      "        improved_version_g2p: true\n",
      "    dataloader_params:\n",
      "      drop_last: false\n",
      "      shuffle: false\n",
      "      batch_size: 1\n",
      "      num_workers: 12\n",
      "    manifest_filepath: ../../datasets/RUSLAN/test_manifest.json\n",
      "    batch_size: 1\n",
      "    num_workers: 4\n",
      "    \n"
     ]
    },
    {
     "name": "stdout",
     "output_type": "stream",
     "text": [
      "[NeMo I 2022-02-17 18:17:03 features:264] PADDING: 1\n",
      "[NeMo I 2022-02-17 18:17:03 features:281] STFT using torch\n"
     ]
    }
   ],
   "source": [
    "model_path = '/media/boris/F/'\n",
    "\n",
    "spec_gen = FastPitchModel.load_from_checkpoint(model_path + 'tts_ru_fastpitch.ckpt')"
   ]
  },
  {
   "cell_type": "code",
   "execution_count": 3,
   "metadata": {},
   "outputs": [],
   "source": [
    "parsed = spec_gen.parse('Hi')\n",
    "\n",
    "spectrogram = spec_gen.generate_spectrogram(tokens=parsed)"
   ]
  },
  {
   "cell_type": "code",
   "execution_count": 4,
   "metadata": {},
   "outputs": [
    {
     "ename": "NameError",
     "evalue": "name 'vocoder' is not defined",
     "output_type": "error",
     "traceback": [
      "\u001b[0;31m---------------------------------------------------------------------------\u001b[0m",
      "\u001b[0;31mNameError\u001b[0m                                 Traceback (most recent call last)",
      "Input \u001b[0;32mIn [4]\u001b[0m, in \u001b[0;36m<module>\u001b[0;34m\u001b[0m\n\u001b[0;32m----> 1\u001b[0m waveform \u001b[38;5;241m=\u001b[39m \u001b[43mvocoder\u001b[49m\u001b[38;5;241m.\u001b[39mconvert_spectrogram_to_audio(spec\u001b[38;5;241m=\u001b[39mspectrogram)\n",
      "\u001b[0;31mNameError\u001b[0m: name 'vocoder' is not defined"
     ]
    }
   ],
   "source": [
    "waveform = vocoder.convert_spectrogram_to_audio(spec=spectrogram)"
   ]
  },
  {
   "cell_type": "code",
   "execution_count": 1,
   "metadata": {},
   "outputs": [
    {
     "data": {
      "text/plain": [
       "'1.10.2+cu102'"
      ]
     },
     "execution_count": 1,
     "metadata": {},
     "output_type": "execute_result"
    }
   ],
   "source": [
    "import torch\n",
    "\n",
    "torch.__version__"
   ]
  },
  {
   "cell_type": "code",
   "execution_count": 6,
   "metadata": {},
   "outputs": [
    {
     "name": "stdout",
     "output_type": "stream",
     "text": [
      "Collecting nemo-toolkit\n",
      "  Downloading nemo_toolkit-1.6.2-py3-none-any.whl (2.9 MB)\n",
      "\u001b[2K     \u001b[38;2;114;156;31m━━━━━━━━━━━━━━━━━━━━━━━━━━━━━━━━━━━━━━━━\u001b[0m \u001b[32m2.9/2.9 MB\u001b[0m \u001b[31m2.9 MB/s\u001b[0m eta \u001b[36m0:00:00\u001b[0mm eta \u001b[36m0:00:01\u001b[0m0:01\u001b[0m:01\u001b[0m\n",
      "\u001b[?25hRequirement already satisfied: onnx>=1.7.0 in /home/boris/anaconda3/lib/python3.7/site-packages (from nemo-toolkit) (1.10.1)\n",
      "Requirement already satisfied: wget in /home/boris/anaconda3/lib/python3.7/site-packages (from nemo-toolkit) (3.2)\n",
      "Requirement already satisfied: ruamel.yaml in /home/boris/anaconda3/lib/python3.7/site-packages (from nemo-toolkit) (0.15.87)\n",
      "Requirement already satisfied: torch in /home/boris/anaconda3/lib/python3.7/site-packages (from nemo-toolkit) (1.10.2)\n",
      "Requirement already satisfied: wrapt in /home/boris/anaconda3/lib/python3.7/site-packages (from nemo-toolkit) (1.12.1)\n",
      "Requirement already satisfied: python-dateutil in /home/boris/anaconda3/lib/python3.7/site-packages (from nemo-toolkit) (2.8.1)\n",
      "Requirement already satisfied: tqdm>=4.41.0 in /home/boris/anaconda3/lib/python3.7/site-packages (from nemo-toolkit) (4.62.0)\n",
      "Requirement already satisfied: numpy>=1.21 in /home/boris/anaconda3/lib/python3.7/site-packages (from nemo-toolkit) (1.21.5)\n",
      "Requirement already satisfied: numba in /home/boris/anaconda3/lib/python3.7/site-packages (from nemo-toolkit) (0.48.0)\n",
      "Requirement already satisfied: sentencepiece<1.0.0 in /home/boris/anaconda3/lib/python3.7/site-packages (from nemo-toolkit) (0.1.96)\n",
      "Requirement already satisfied: frozendict in /home/boris/anaconda3/lib/python3.7/site-packages (from nemo-toolkit) (2.0.6)\n",
      "Requirement already satisfied: unidecode in /home/boris/anaconda3/lib/python3.7/site-packages (from nemo-toolkit) (1.2.0)\n",
      "Requirement already satisfied: scikit-learn in /home/boris/anaconda3/lib/python3.7/site-packages (from nemo-toolkit) (0.20.4)\n",
      "Requirement already satisfied: protobuf in /home/boris/anaconda3/lib/python3.7/site-packages (from onnx>=1.7.0->nemo-toolkit) (3.17.3)\n",
      "Requirement already satisfied: six in /home/boris/anaconda3/lib/python3.7/site-packages (from onnx>=1.7.0->nemo-toolkit) (1.15.0)\n",
      "Requirement already satisfied: typing-extensions>=3.6.2.1 in /home/boris/anaconda3/lib/python3.7/site-packages (from onnx>=1.7.0->nemo-toolkit) (3.7.4.3)\n",
      "Requirement already satisfied: llvmlite<0.32.0,>=0.31.0dev0 in /home/boris/anaconda3/lib/python3.7/site-packages (from numba->nemo-toolkit) (0.31.0)\n",
      "Requirement already satisfied: setuptools in /home/boris/anaconda3/lib/python3.7/site-packages (from numba->nemo-toolkit) (59.5.0)\n",
      "Requirement already satisfied: scipy>=0.13.3 in /home/boris/anaconda3/lib/python3.7/site-packages (from scikit-learn->nemo-toolkit) (1.4.1)\n",
      "Installing collected packages: nemo-toolkit\n",
      "Successfully installed nemo-toolkit-1.6.2\n"
     ]
    }
   ],
   "source": [
    "!pip install nemo-toolkit"
   ]
  },
  {
   "cell_type": "code",
   "execution_count": null,
   "metadata": {},
   "outputs": [],
   "source": []
  }
 ],
 "metadata": {
  "kernelspec": {
   "display_name": "Python 3 (ipykernel)",
   "language": "python",
   "name": "python3"
  },
  "language_info": {
   "codemirror_mode": {
    "name": "ipython",
    "version": 3
   },
   "file_extension": ".py",
   "mimetype": "text/x-python",
   "name": "python",
   "nbconvert_exporter": "python",
   "pygments_lexer": "ipython3",
   "version": "3.9.7"
  }
 },
 "nbformat": 4,
 "nbformat_minor": 4
}
